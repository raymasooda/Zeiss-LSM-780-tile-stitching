{
 "cells": [
  {
   "cell_type": "markdown",
   "id": "f927fe8c",
   "metadata": {},
   "source": [
    "## Imports"
   ]
  },
  {
   "cell_type": "code",
   "execution_count": null,
   "id": "5853c3bc",
   "metadata": {},
   "outputs": [],
   "source": [
    "import os\n",
    "import pandas as pd\n",
    "import os\n",
    "import shutil\n",
    "import numpy as np"
   ]
  },
  {
   "cell_type": "markdown",
   "id": "f68ce2c9",
   "metadata": {},
   "source": [
    "## Find relevant sub-directories within data directory that have tiffs"
   ]
  },
  {
   "cell_type": "code",
   "execution_count": 2,
   "id": "cc790403",
   "metadata": {
    "hide_input": false,
    "scrolled": true
   },
   "outputs": [
    {
     "name": "stdout",
     "output_type": "stream",
     "text": [
      "Z:\\Rei\\Post-hoc imaging\\RGECO-GCaMP_Batch1\\four\\A4_POm_PPC.tiff_files\n",
      "Z:\\Rei\\Post-hoc imaging\\RGECO-GCaMP_Batch1\\four\\A5_POm_PPC.tiff_files\n",
      "Z:\\Rei\\Post-hoc imaging\\RGECO-GCaMP_Batch1\\muji\\A7_POm_PPC.tiff_files\n",
      "Z:\\Rei\\Post-hoc imaging\\RGECO-GCaMP_Batch1\\muji\\A7_PPC_20X.tiff_files\n",
      "Z:\\Rei\\Post-hoc imaging\\RGECO-GCaMP_Batch1\\muji\\A8_POm_PPC.tiff_files\n",
      "Z:\\Rei\\Post-hoc imaging\\RGECO-GCaMP_Batch1\\muji\\A8_PPC_20X.tiff_files\n",
      "Z:\\Rei\\Post-hoc imaging\\RGECO-GCaMP_Batch1\\one\\A6_POm_PPC.tiff_files\n",
      "Z:\\Rei\\Post-hoc imaging\\RGECO-GCaMP_Batch1\\one\\A7_POm_PPC.tiff_files\n",
      "Z:\\Rei\\Post-hoc imaging\\RGECO-GCaMP_Batch1\\two\\A5_POm_PPC.tiff_files\n",
      "Z:\\Rei\\Post-hoc imaging\\RGECO-GCaMP_Batch1\\two\\A6_POm_PPC.tiff_files\n",
      "Z:\\Rei\\Post-hoc imaging\\RGECO-GCaMP_Batch1\\two\\A6_PPC_20X.tiff_files\n",
      "Z:\\Rei\\Post-hoc imaging\\RGECO-GCaMP_Batch1\\two\\A7_POm_PPC.tiff_files\n",
      "Z:\\Rei\\Post-hoc imaging\\RGECO-GCaMP_Batch2\\five\\A4_POm_PPC.tiff_files\n",
      "Z:\\Rei\\Post-hoc imaging\\RGECO-GCaMP_Batch2\\five\\A5_POm_PPC.tiff_files\n",
      "Z:\\Rei\\Post-hoc imaging\\RGECO-GCaMP_Batch2\\five\\A6_POm_PPC.tiff_files\n",
      "Z:\\Rei\\Post-hoc imaging\\RGECO-GCaMP_Batch2\\three\\POm_PPC_A5.tiff_files\n",
      "Z:\\Rei\\Post-hoc imaging\\RGECO-GCaMP_Batch2\\three\\POm_PPC_A6.tiff_files\n",
      "Z:\\Rei\\Post-hoc imaging\\RGECO-GCaMP_Batch2\\three\\POm_PPC_A7.tiff_files\n",
      "Z:\\Rei\\Post-hoc imaging\\RGECO-GCaMP_Batch2\\three\\PPC_A6_20X.tiff_files\n",
      "Z:\\Rei\\Post-hoc imaging\\RGECO-GCaMP_Batch2\\three\\PPC_A7_20X.tiff_files\n",
      "Z:\\Rei\\Post-hoc imaging\\RGECO-GCaMP_Batch3\\muji\\A6_POm_PPC.tiff_files\n",
      "Z:\\Rei\\Post-hoc imaging\\RGECO-GCaMP_Batch3\\muji\\A6_PPC_20X.tiff_files\n",
      "Z:\\Rei\\Post-hoc imaging\\RGECO-GCaMP_Batch3\\one\\A6_POm_PPC.tiff_files\n",
      "Z:\\Rei\\Post-hoc imaging\\RGECO-GCaMP_Batch3\\one\\A7_POm_PPC.tiff_files\n",
      "Z:\\Rei\\Post-hoc imaging\\RGECO-GCaMP_Batch3\\three\\A3_POm_PPC.tiff_files\n",
      "Z:\\Rei\\Post-hoc imaging\\RGECO-GCaMP_Batch3\\three\\A4_POm_PPC.tiff_files\n",
      "Z:\\Rei\\Post-hoc imaging\\RGECO-GCaMP_Batch3\\three\\A5_POm_PPC.tiff_files\n",
      "Z:\\Rei\\Post-hoc imaging\\RGECO-GCaMP_Batch3\\three\\A8_POm_PPC.tiff_files\n"
     ]
    }
   ],
   "source": [
    "data_directory = r'Z:\\Rei\\Post-hoc imaging' #the parent data directory\n",
    "directories = []\n",
    "for root, dirs, files in os.walk(data_directory):\n",
    "    if ('RGECO-GCaMP' in root) & ('tiff_files' in root): #the substrings that the sub-directories of interest should contain\n",
    "        print(root)\n",
    "        directories.append(root)"
   ]
  },
  {
   "cell_type": "markdown",
   "id": "a3a4787c",
   "metadata": {},
   "source": [
    "## Extract x- and y-positions of tiles from tiff filenames and move files to new directory"
   ]
  },
  {
   "cell_type": "code",
   "execution_count": 4,
   "id": "214953b3",
   "metadata": {},
   "outputs": [],
   "source": [
    "## Loop through all the sub-directories identified in the previous cell and determine which files need to be stitched ##\n",
    "for i, (d) in enumerate(directories):\n",
    "    if i == 0:\n",
    "        None\n",
    "    else:\n",
    "        root = ('\\\\').join(d.split('\\\\')[:-1]) #parent directory of the current sub-directory (i.e. one level up)\n",
    "        file = d.split('\\\\')[-1].split('_files')[0] #what the stitched tiff filename should be\n",
    "        if file in os.listdir(root): \n",
    "            None\n",
    "            \n",
    "        ## If the stitched tiff doesn't exist in the parent directory ##\n",
    "        else:\n",
    "            for color in ['1','0']: #loop through each color channel\n",
    "                new_dir = file+'_color'+color #define new folder name where files will be copied to\n",
    "                if new_dir in os.listdir(root):\n",
    "                    None\n",
    "                else:\n",
    "                    os.mkdir(root+'\\\\'+new_dir) #create new folder if it doesn't exist in the parent directory\n",
    "                    \n",
    "                dfs = []                \n",
    "                ## Loop through all the individual tile tiffs in the current sub-directory ##\n",
    "                for f in os.listdir(d):\n",
    "                    if ('.xml' not in f) & ('.tiff' in f) & ('color' not in f): #files must satisfy these criteria\n",
    "                        c = f.split('b0v0t0z0c')[1][0] #color channel identifier from tiff filename\n",
    "                        if c == color:\n",
    "                            x = int(f.split('b0v0t0z0c'+c+'x')[1].split('-')[0]) #x-position identifier from tiff filename\n",
    "                            y = int(f.split('-512y')[1].split('-')[0]) #y-position identifier from tiff filename\n",
    "                            \n",
    "                            ## Create dataframe of x- and y-position with \"{tiff_filename} ; ;\" as index ## \n",
    "                            tile_df = pd.DataFrame([[x,y]],columns=['x','y'],index=[f+'; ;'])\n",
    "                            dfs.append(tile_df) #append each tile tiff to list\n",
    "                            shutil.copyfile(d+'\\\\'+f, root+'\\\\'+new_dir+'\\\\'+f) #copy each tile tiff to new directory\n",
    "                df = pd.concat(dfs) #concatenate list of individual tiff dataframes into a single dataframe\n",
    "                \n",
    "                ## Create final dataframe in the correct format, save to .txt file, and copy to new directory ##\n",
    "                new_dfs = ['dim = 2', ''] #first 2 lines of .txt file where \"dim\" refers to the number of position locators\n",
    "                for index, rows in df.iterrows():\n",
    "                    new_dfs.append(index+' ('+str(rows.x)+','+str(rows.y)+')')\n",
    "                new_df = pd.DataFrame(new_dfs, columns=['text'])\n",
    "                np.savetxt(root+'\\\\'+new_dir+'\\\\tiles.txt', new_df.values, fmt='%s')"
   ]
  }
 ],
 "metadata": {
  "kernelspec": {
   "display_name": "Python 3 (ipykernel)",
   "language": "python",
   "name": "python3"
  },
  "language_info": {
   "codemirror_mode": {
    "name": "ipython",
    "version": 3
   },
   "file_extension": ".py",
   "mimetype": "text/x-python",
   "name": "python",
   "nbconvert_exporter": "python",
   "pygments_lexer": "ipython3",
   "version": "3.10.9"
  }
 },
 "nbformat": 4,
 "nbformat_minor": 5
}
